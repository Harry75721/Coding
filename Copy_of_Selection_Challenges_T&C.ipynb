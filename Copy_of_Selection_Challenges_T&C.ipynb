{
  "nbformat": 4,
  "nbformat_minor": 0,
  "metadata": {
    "colab": {
      "provenance": [],
      "include_colab_link": true
    },
    "kernelspec": {
      "name": "python3",
      "display_name": "Python 3"
    }
  },
  "cells": [
    {
      "cell_type": "markdown",
      "metadata": {
        "id": "view-in-github",
        "colab_type": "text"
      },
      "source": [
        "<a href=\"https://colab.research.google.com/github/Harry75721/Coding/blob/main/Copy_of_Selection_Challenges_T%26C.ipynb\" target=\"_parent\"><img src=\"https://colab.research.google.com/assets/colab-badge.svg\" alt=\"Open In Colab\"/></a>"
      ]
    },
    {
      "cell_type": "markdown",
      "metadata": {
        "id": "-QxAKPD8DZfj"
      },
      "source": [
        "# Three selection challenges\n",
        "\n",
        "---\n"
      ]
    },
    {
      "cell_type": "markdown",
      "metadata": {
        "id": "2KYUALILDcM9"
      },
      "source": [
        "### Challenge 1 - access code format  \n",
        "\n",
        "Users of the noticeboard app will login in with an email address and an access code.  \n",
        "\n",
        "Write a function called **check_valid_code(access_code)** which will check the validity of an **access_code** given to it in its brackets.\n",
        "\n",
        "Rules for a valid access code are:  \n",
        "\n",
        "*  At least 1 letter between [A-Z].\n",
        "*  At least 1 number between [0-9].\n",
        "*  At least 1 character from [$#@].\n",
        "*  Length 12 characters. \n",
        "\n",
        "Print a message to state if the `access code` is valid and, if not, where was the first error (A-Z missing or 0-9 missing, etc).\n",
        "\n",
        "*Hint:  to test if a set of characters is present in an access_code String, you can use re.search('[character set]', `access_code`)*  \n",
        "\n",
        "Example:   \n",
        "*if re.search('[A-Z]',`access_code`):*    \n",
        "if there is at least 1 character A-Z in the `access_code`, re.search will not be None.\n",
        "\n",
        "**re** is a pre-written Python function for pattern searching in Strings.  It has been imported for you in the code cell below.  \n",
        "\n",
        "### Test 1\n",
        "Run the function with the following call:  \n",
        "\n",
        "`check_valid_code(\"ABC032RF$#12\")`\n",
        "\n",
        "The expected output is \"The code is valid\"\n",
        "\n",
        "### Test 2\n",
        "Run the function with the following call:  \n",
        "\n",
        "`check_valid_code(\"ABC$$PFD#@\")`\n",
        "\n",
        "The expected output is \"The code is invalid, it has no number digits\"  \n",
        "\n",
        "### Test 3\n",
        "Run the function with the following call:  \n",
        "\n",
        "`check_valid_code(\"ABC$$12PFD#@3\")`\n",
        "\n",
        "The expected output is \"The code is invalid, it has the wrong number of characters\" "
      ]
    },
    {
      "cell_type": "code",
      "source": [
        "re.search('[A-Z]',access_code)\n",
        "re.search('[1-9]',access_code)\n",
        "re.search('[$#@]',access_code)\n",
        "len(access_code)==12"
      ],
      "metadata": {
        "id": "GHalrCZgAanq"
      },
      "execution_count": null,
      "outputs": []
    },
    {
      "cell_type": "code",
      "metadata": {
        "id": "8wBK9IA4BO2e",
        "outputId": "215565a1-cf61-4f8c-bf5c-4a5086b51f1e",
        "colab": {
          "base_uri": "https://localhost:8080/"
        }
      },
      "source": [
        "import re\n",
        "\n",
        "# add your check_valid_code() function and call below here\n",
        "def check_valid_code(access_code):\n",
        "  caps = False\n",
        "  num = False\n",
        "  special = False\n",
        "  if len(access_code)==12:\n",
        "    \n",
        "  \n",
        "    if re.search('[A-Z]',access_code):\n",
        "      caps = True\n",
        "    else:\n",
        "      print(\"The code is invalid, it has no capital letters\")\n",
        "    if re.search('[1-9]',access_code):\n",
        "      num = True\n",
        "    else:\n",
        "      print(\"The code is invalid, it has no number digits\")\n",
        "    if re.search('[$#@]',access_code):\n",
        "      special = True\n",
        "    else:\n",
        "      print(\"The code is invalid, it has no special characters\")\n",
        "    if caps == True and num == True and special == True:\n",
        "      print(\"The code is valid\")\n",
        "  else:\n",
        "    print(\"The code is invalid, it is not 12 digits in length\")\n",
        "\n",
        "\n",
        "\n",
        "\n",
        "\n",
        "check_valid_code(input(\"enter an access code\"))"
      ],
      "execution_count": 5,
      "outputs": [
        {
          "output_type": "stream",
          "name": "stdout",
          "text": [
            "enter an access codedfghnmjkliuy\n",
            "The code is invalid, it has no capital letters\n",
            "The code is invalid, it has no number digits\n",
            "The code is invalid, it has no special characters\n"
          ]
        }
      ]
    },
    {
      "cell_type": "markdown",
      "metadata": {
        "id": "f0R4GYTEFQS-"
      },
      "source": [
        "---\n",
        "### Challenge 2 - locator  \n",
        "\n",
        "When a user first accesses the app, their GPS position will be used to determine which location they are in.  \n",
        "\n",
        "GPS coordinates are expressed as a latitude (lat) and a longitude (lon).  \n",
        "\n",
        "A rectangular area covering Medway can be defined to have the following bounding co-ordinates:\n",
        "\n",
        "\n",
        "![Map](https://drive.google.com/uc?id=1XCgYy0dJ_8aanusTCbYSub6W9SGw_fov)\n",
        "\n",
        "\n",
        "Top (lat):  51.48586836145452   \n",
        "Left (lon): 0.46367947236595175  \n",
        "Bottom (lat): 51.33662496338446  \n",
        "Right (lon): 0.7225833875971361  \n",
        "\n",
        "Write a function called **locate_user(lat, lon)** which will be given the co-ordinates for the user's current position and will decide, and print, if that user is located in Medway or not.  \n",
        "\n",
        "\n",
        "### Test 1\n",
        "Run the function with these co-ordinates:\n",
        "\n",
        "`locate_user(51.42015170639725, 0.4855652376565944)`\n",
        "\n",
        "The expected output is that \"This user is in Medway\"  \n",
        "\n",
        "### Test 2\n",
        "Run the function with these co-ordinates:\n",
        "\n",
        "`locate_user(51.44709781078563, 0.19080357058032646)`\n",
        "\n",
        "The expected output is that \"This user is NOT in Medway\"  "
      ]
    },
    {
      "cell_type": "code",
      "metadata": {
        "id": "oBgl4ro1DVL0",
        "colab": {
          "base_uri": "https://localhost:8080/"
        },
        "outputId": "8748e34f-98e7-4b74-b377-67d7efceab3e"
      },
      "source": [
        "def locate_user(lat,lon):\n",
        "  \n",
        "  if lat >= 51.33662496338446 and lat <= 51.48586836145452 and lon >= 0.46367947236595175 and lon<= 0.7225833875971361:\n",
        "    print(\"This user is in medway\")\n",
        "  else:\n",
        "    print(\"This user is NOT in Medway\")\n",
        "\n",
        "locate_user(51.44709781078563, 0.19080357058032646)"
      ],
      "execution_count": 8,
      "outputs": [
        {
          "output_type": "stream",
          "name": "stdout",
          "text": [
            "This user is NOT in Medway\n"
          ]
        }
      ]
    },
    {
      "cell_type": "markdown",
      "metadata": {
        "id": "hr2EotkqG33l"
      },
      "source": [
        "---\n",
        "### Challenge 3 - which season\n",
        "\n",
        "This won't be in the first version of the app but could be a nice to have feature for a later version.  An automatic category could choose notices by season.\n",
        "\n",
        "Write a function called **determine_season(month, day)** which will be given two integers representing a **month** and **day** and will print the season for that month and day.\n",
        "\n",
        "*Note*:  for this exercise the season dates are:\n",
        "*  Winter December 21 to March 20    \n",
        "*  Spring March 21 to June 20  \n",
        "*  Summer June 21 to September 20  \n",
        "*  Autumn September 21 to December 20\n",
        "\n",
        "### Test 1:  \n",
        "Run the function to check the date 31st July                     \n",
        "\n",
        "`determine_season(7, 31)`                                                     \n",
        "\n",
        "Expected output:  \n",
        "Season is summer  \n",
        "\n",
        "### Test 2:  \n",
        "Run the function to check the date 2nd November                     \n",
        "\n",
        "`determine_season(11, 2)`                                                     \n",
        "\n",
        "Expected output:  \n",
        "Season is autumn  \n",
        "\n",
        "*Note: this will require multiple `and` or `or` operators and you should use brackets to help Python know which operations to do first*  \n",
        "\n",
        "*For an extra challenge you could check that the day is valid for the month and print an error if so*"
      ]
    },
    {
      "cell_type": "code",
      "metadata": {
        "id": "cvbfz8nzG4IL",
        "colab": {
          "base_uri": "https://localhost:8080/"
        },
        "outputId": "f7df0a99-ba07-4be5-cee8-5622fad53b98"
      },
      "source": [
        "def determine_season(month,day):\n",
        "  if (month in [1,3,5,7,8,10,12] and day <= 31) or (month in [4,6,9,11] and day <=30) or (month in [2] and day <=29):\n",
        "    if (month == 12 and day >= 21) or month == 1 or month == 2 or (month == 3 and day <= 20):\n",
        "      print(\"Season is winter\")\n",
        "    if (month == 3 and day >=21) or month == 4 or month == 5 or (month == 6 and day <= 20):\n",
        "      print(\"Season is spring\")\n",
        "    if (month == 6 and day >= 21) or month == 7 or month == 8 or (month == 9 and day <= 20):\n",
        "      print(\"Season is summer\")\n",
        "    if (month == 9 and day >= 21) or month == 10 or month == 11 or (month == 12 and day <= 20):\n",
        "      print(\"Season is autumn\")\n",
        "determine_season(11,11)"
      ],
      "execution_count": 14,
      "outputs": [
        {
          "output_type": "stream",
          "name": "stdout",
          "text": [
            "Season is autumn\n"
          ]
        }
      ]
    },
    {
      "cell_type": "code",
      "source": [
        "def determine_season(month,day):\n",
        "  January = range(1,31)\n",
        "  Febuary = range(2)\n",
        "determine_season(3, 23)"
      ],
      "metadata": {
        "id": "3RjQcult8eAg"
      },
      "execution_count": null,
      "outputs": []
    }
  ]
}